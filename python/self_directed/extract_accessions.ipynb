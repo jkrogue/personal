{
 "cells": [
  {
   "cell_type": "code",
   "execution_count": 1,
   "metadata": {},
   "outputs": [],
   "source": [
    "import pandas"
   ]
  },
  {
   "cell_type": "code",
   "execution_count": 2,
   "metadata": {},
   "outputs": [],
   "source": [
    "ankle_df = pandas.read_csv(\"data/ankle_fx_final.csv\")"
   ]
  },
  {
   "cell_type": "code",
   "execution_count": 29,
   "metadata": {},
   "outputs": [
    {
     "name": "stdout",
     "output_type": "stream",
     "text": [
      "      Accession Number Classification\n",
      "0              5153145              Y\n",
      "2697           2766402              Y\n",
      "2666           2832454              Y\n",
      "2669           2817742              Y\n",
      "2670           2817663              Y\n",
      "2673           2814110              Y\n",
      "2675           2810260              Y\n",
      "2677           2807958              Y\n",
      "2679           2801222              Y\n",
      "2680           2801147              Y\n",
      "2684           2798862              Y\n",
      "2685           2791609              Y\n",
      "2687           2788743              Y\n",
      "2695           2767854              Y\n",
      "2700           2755927              Y\n",
      "2560           3141573              Y\n",
      "2704           2746401              Y\n",
      "2711           2735559              Y\n",
      "2715           2730334              Y\n",
      "2716           2730310              Y\n",
      "2719           2723468              Y\n",
      "2726           2712290              Y\n",
      "2735           2703114              Y\n",
      "2740           2689866              Y\n",
      "2744           2684077              Y\n",
      "2752           2655785              Y\n",
      "2763           2622561              Y\n",
      "2764           2620771              Y\n",
      "2664           2834722              Y\n",
      "2662           2843333              Y\n",
      "...                ...            ...\n",
      "2883           2389834              P\n",
      "1161           3492592              P\n",
      "2873           2413143              P\n",
      "2861           2446045              P\n",
      "1177           3476715              P\n",
      "2848           2476027              P\n",
      "2978           2199657              P\n",
      "2982           2198703              P\n",
      "3147           4961445              P\n",
      "1003           3764466              P\n",
      "3138           5040526              P\n",
      "817            4062444              P\n",
      "819            4062119              P\n",
      "3119           5160032              P\n",
      "820            4056202              P\n",
      "3109           5232531              P\n",
      "833            4043368              P\n",
      "3089           5364036              P\n",
      "3065           5479485              P\n",
      "3061           5504001              P\n",
      "3052           5559078              P\n",
      "908            3927183              P\n",
      "3029            741489              P\n",
      "3024            905053              P\n",
      "3019           1067054              P\n",
      "925            3893082              P\n",
      "3010           1760785              P\n",
      "3001           2055649              P\n",
      "2998           2062163              P\n",
      "918            3907506              P\n",
      "\n",
      "[1082 rows x 2 columns]\n"
     ]
    },
    {
     "name": "stderr",
     "output_type": "stream",
     "text": [
      "/anaconda3/lib/python3.6/site-packages/ipykernel_launcher.py:8: SettingWithCopyWarning: \n",
      "A value is trying to be set on a copy of a slice from a DataFrame\n",
      "\n",
      "See the caveats in the documentation: http://pandas.pydata.org/pandas-docs/stable/indexing.html#indexing-view-versus-copy\n",
      "  \n"
     ]
    }
   ],
   "source": [
    "is_fracture = ankle_df[\"Classification\"] == \"Y\"\n",
    "\n",
    "is_possible = ankle_df[\"Classification\"] == 'P'\n",
    "\n",
    "ankle_fx_df = ankle_df.loc[is_fracture|is_possible]\n",
    "\n",
    "accession_numbers = ankle_fx_df[[\"Accession Number\",\"Classification\"]]\n",
    "accession_numbers.sort_values(\"Classification\", ascending=False,inplace=True)\n",
    "print(accession_numbers)\n",
    "accession_numbers.to_csv(\"data/accession_numbers.csv\")"
   ]
  },
  {
   "cell_type": "code",
   "execution_count": null,
   "metadata": {},
   "outputs": [],
   "source": []
  },
  {
   "cell_type": "code",
   "execution_count": null,
   "metadata": {},
   "outputs": [],
   "source": []
  }
 ],
 "metadata": {
  "kernelspec": {
   "display_name": "Python 3",
   "language": "python",
   "name": "python3"
  },
  "language_info": {
   "codemirror_mode": {
    "name": "ipython",
    "version": 3
   },
   "file_extension": ".py",
   "mimetype": "text/x-python",
   "name": "python",
   "nbconvert_exporter": "python",
   "pygments_lexer": "ipython3",
   "version": "3.6.4"
  }
 },
 "nbformat": 4,
 "nbformat_minor": 2
}
